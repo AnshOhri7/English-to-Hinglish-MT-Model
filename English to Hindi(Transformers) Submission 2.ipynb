{
 "cells": [
  {
   "cell_type": "code",
   "execution_count": 12,
   "id": "6b52d851",
   "metadata": {},
   "outputs": [
    {
     "name": "stdout",
     "output_type": "stream",
     "text": [
      "Requirement already satisfied: transformers in c:\\users\\ansho\\anaconda3\\lib\\site-packages (4.33.1)\n",
      "Requirement already satisfied: regex!=2019.12.17 in c:\\users\\ansho\\anaconda3\\lib\\site-packages (from transformers) (2021.4.4)\n",
      "Requirement already satisfied: safetensors>=0.3.1 in c:\\users\\ansho\\anaconda3\\lib\\site-packages (from transformers) (0.3.3)\n",
      "Requirement already satisfied: filelock in c:\\users\\ansho\\anaconda3\\lib\\site-packages (from transformers) (3.0.12)\n",
      "Requirement already satisfied: tqdm>=4.27 in c:\\users\\ansho\\anaconda3\\lib\\site-packages (from transformers) (4.59.0)\n",
      "Requirement already satisfied: numpy>=1.17 in c:\\users\\ansho\\anaconda3\\lib\\site-packages (from transformers) (1.20.1)\n",
      "Requirement already satisfied: pyyaml>=5.1 in c:\\users\\ansho\\anaconda3\\lib\\site-packages (from transformers) (5.4.1)\n",
      "Requirement already satisfied: huggingface-hub<1.0,>=0.15.1 in c:\\users\\ansho\\anaconda3\\lib\\site-packages (from transformers) (0.16.4)\n",
      "Requirement already satisfied: packaging>=20.0 in c:\\users\\ansho\\anaconda3\\lib\\site-packages (from transformers) (20.9)\n",
      "Requirement already satisfied: tokenizers!=0.11.3,<0.14,>=0.11.1 in c:\\users\\ansho\\anaconda3\\lib\\site-packages (from transformers) (0.13.3)\n",
      "Requirement already satisfied: requests in c:\\users\\ansho\\anaconda3\\lib\\site-packages (from transformers) (2.25.1)\n",
      "Requirement already satisfied: fsspec in c:\\users\\ansho\\anaconda3\\lib\\site-packages (from huggingface-hub<1.0,>=0.15.1->transformers) (0.9.0)\n",
      "Requirement already satisfied: typing-extensions>=3.7.4.3 in c:\\users\\ansho\\anaconda3\\lib\\site-packages (from huggingface-hub<1.0,>=0.15.1->transformers) (3.7.4.3)\n",
      "Requirement already satisfied: pyparsing>=2.0.2 in c:\\users\\ansho\\anaconda3\\lib\\site-packages (from packaging>=20.0->transformers) (2.4.7)\n",
      "Requirement already satisfied: chardet<5,>=3.0.2 in c:\\users\\ansho\\anaconda3\\lib\\site-packages (from requests->transformers) (4.0.0)\n",
      "Requirement already satisfied: idna<3,>=2.5 in c:\\users\\ansho\\anaconda3\\lib\\site-packages (from requests->transformers) (2.10)\n",
      "Requirement already satisfied: urllib3<1.27,>=1.21.1 in c:\\users\\ansho\\anaconda3\\lib\\site-packages (from requests->transformers) (1.26.4)\n",
      "Requirement already satisfied: certifi>=2017.4.17 in c:\\users\\ansho\\anaconda3\\lib\\site-packages (from requests->transformers) (2020.12.5)\n"
     ]
    }
   ],
   "source": [
    "!pip install transformers"
   ]
  },
  {
   "cell_type": "code",
   "execution_count": 13,
   "id": "c5c8026d",
   "metadata": {},
   "outputs": [
    {
     "name": "stdout",
     "output_type": "stream",
     "text": [
      "Requirement already satisfied: sentencepiece in c:\\users\\ansho\\anaconda3\\lib\\site-packages (0.1.99)\n"
     ]
    }
   ],
   "source": [
    "!pip install sentencepiece"
   ]
  },
  {
   "cell_type": "code",
   "execution_count": 17,
   "id": "4edf2518",
   "metadata": {},
   "outputs": [
    {
     "name": "stderr",
     "output_type": "stream",
     "text": [
      "All model checkpoint layers were used when initializing TFMarianMTModel.\n",
      "\n",
      "All the layers of TFMarianMTModel were initialized from the model checkpoint at Helsinki-NLP/opus-mt-en-hi.\n",
      "If your task is similar to the task the model of the checkpoint was trained on, you can already use TFMarianMTModel for predictions without further training.\n"
     ]
    },
    {
     "name": "stdout",
     "output_type": "stream",
     "text": [
      "Input (English): ['Definitely share your feedback in the comment section.', \"So even if it's a big video, I will clearly mention all the products.\", ' I was waiting for my bag.']\n",
      "Translation (Hindi): ['अंग्रेज़ी को हिन्दी अनुवाद करें: टिप्पणी खण्ड में अपनी प्रतिक्रिया को निश्\\u200dचित ही साझा कीजिए ।', 'अंग्रेजी को हिन्दी अनुवाद करते हैं: तो भी यह एक बड़ा वीडियो है, तो मैं स्पष्ट रूप से सभी उत्पादों का उल्लेख करेंगे।', 'अंग्रेज़ी अनुवाद हिन्दी अनुवाद करता है: मैं अपने बैग के लिए इंतज़ार कर रहा था.']\n"
     ]
    }
   ],
   "source": [
    "from transformers import MarianTokenizer, TFAutoModelForSeq2SeqLM\n",
    "\n",
    "# Load the pre-trained English-to-Hindi translation model and tokenizer\n",
    "model_name = \"Helsinki-NLP/opus-mt-en-hi\"\n",
    "model = TFAutoModelForSeq2SeqLM.from_pretrained(model_name)\n",
    "tokenizer = MarianTokenizer.from_pretrained(model_name)\n",
    "\n",
    "# Define the input English text\n",
    "english_text = [\"Definitely share your feedback in the comment section.\", \"So even if it's a big video, I will clearly mention all the products.\", \" I was waiting for my bag.\"]\n",
    "translated_text = []\n",
    "\n",
    "# Tokenize and translate the text\n",
    "for x in english_text:\n",
    "    inputs = tokenizer.encode(\"translate English to Hindi: \" + x, return_tensors=\"tf\")\n",
    "    translation_ids = model.generate(inputs, max_length=50, num_beams=4, early_stopping=True)\n",
    "    t = tokenizer.decode(translation_ids[0], skip_special_tokens=True)\n",
    "    translated_text.append(t)\n",
    "\n",
    "# Print the translated text\n",
    "print(\"Input (English):\", english_text)\n",
    "print(\"Translation (Hindi):\", translated_text)"
   ]
  },
  {
   "cell_type": "code",
   "execution_count": null,
   "id": "6ced1959",
   "metadata": {},
   "outputs": [],
   "source": []
  }
 ],
 "metadata": {
  "kernelspec": {
   "display_name": "Python 3",
   "language": "python",
   "name": "python3"
  },
  "language_info": {
   "codemirror_mode": {
    "name": "ipython",
    "version": 3
   },
   "file_extension": ".py",
   "mimetype": "text/x-python",
   "name": "python",
   "nbconvert_exporter": "python",
   "pygments_lexer": "ipython3",
   "version": "3.8.8"
  }
 },
 "nbformat": 4,
 "nbformat_minor": 5
}
